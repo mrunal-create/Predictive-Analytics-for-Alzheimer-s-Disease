{
 "cells": [
  {
   "cell_type": "markdown",
   "metadata": {},
   "source": [
    "## Early onset of Alzheimer's Prediction"
   ]
  },
  {
   "cell_type": "markdown",
   "metadata": {},
   "source": [
    "#### This project is about predicting early diagnosis of Alzheimer's in patients along with identifying the top 10 and bottom 10   features which can lead to Alzheimer's using feature importance.  It explores data cleaning and exploratory data analysis by using techniques like log transformations for skewed target variable to decrease biasness,one hot encoding of categorical variables,filling the missing values using KNN, data balancing using SMOTE as the dataset is imbalanced and is biased and finally scaling. Evaluation of models is done using parameters like auc score,recall,precisoon,accuracy and ROC curve is plotted. classification models like random Forest,Logistic regression and gradient boosting are used and their performances are compared using AUC score,recall,accuracy and precision.\n",
    "\n",
    "#### To ensure that model hasnt overfitted the f1-score is calculated for both classes. Cross validation is used to check that model is not overfitting by any chance and hyperparameter tuning is done using Grid Search to pick best parameters for models which can give optimized model.\n",
    "\n",
    "####  The best performing model is known to be Logistic Regression giving 0.81 AUC score and 0.88 classification accuracy."
   ]
  },
  {
   "cell_type": "code",
   "execution_count": 6,
   "metadata": {},
   "outputs": [],
   "source": [
    "\n",
    "import numpy as np\n",
    "import sklearn as sk\n",
    "import pandas as pd\n",
    "import os\n",
    "data=pd.read_csv('C:/Users/admin/Documents/Alzheimers-Prediction-master/data_3.csv')"
   ]
  },
  {
   "cell_type": "markdown",
   "metadata": {},
   "source": [
    "## Variable Descriptions\n",
    "###### directory.id Id assigned to imaging directories. Not from LONi data\n",
    "###### Subject (PTID) Participant ID\n",
    "###### RID Participant roster ID\n",
    "###### Image.Data.ID MRI ID\n",
    "###### Modality Image type\n",
    "###### Visit 1=screening scan\n",
    "###### Acq.Date MRI date\n",
    "###### DX.bl Diagnosis at baseline\n",
    "###### EXAMDATE Examination Date\n",
    "###### AGE Age at baseline\n",
    "###### PTGENDER Sex\n",
    "###### PTEDUCAT Years of Education\n",
    "###### PTETHCAT Ethnicity\n",
    "###### PTRACCAT Race\n",
    "###### APOE4 APOE4 genotype\n",
    "###### MMSE MMSE score on cognitive test\n",
    "###### imputed_genotype Challenge specific designation, TRUE=has imputed genotypes\n",
    "###### APOE Genotype APOE allele 1 and allele 2 genotypes\n"
   ]
  },
  {
   "cell_type": "markdown",
   "metadata": {},
   "source": [
    "### Exploratory Data Analysis"
   ]
  },
  {
   "cell_type": "code",
   "execution_count": 5,
   "metadata": {},
   "outputs": [
    {
     "name": "stdout",
     "output_type": "stream",
     "text": [
      "<class 'pandas.core.frame.DataFrame'>\n",
      "RangeIndex: 628 entries, 0 to 627\n",
      "Data columns (total 19 columns):\n",
      "directory.id               628 non-null object\n",
      "Subject                    628 non-null object\n",
      "RID                        628 non-null int64\n",
      "Image.Data.ID              628 non-null int64\n",
      "Modality                   628 non-null object\n",
      "Visit                      628 non-null int64\n",
      "Acq.Date                   628 non-null object\n",
      "DX.bl                      628 non-null object\n",
      "EXAMDATE                   628 non-null object\n",
      "AGE                        628 non-null float64\n",
      "PTGENDER                   628 non-null object\n",
      "PTEDUCAT                   628 non-null int64\n",
      "PTETHCAT                   628 non-null object\n",
      "PTRACCAT                   628 non-null object\n",
      "APOE4                      628 non-null int64\n",
      "MMSE                       628 non-null int64\n",
      "imputed_genotype           627 non-null object\n",
      "APOE Genotype              628 non-null object\n",
      "Dx Codes for Submission    628 non-null object\n",
      "dtypes: float64(1), int64(6), object(12)\n",
      "memory usage: 93.3+ KB\n"
     ]
    }
   ],
   "source": [
    "data.info()"
   ]
  },
  {
   "cell_type": "code",
   "execution_count": 2,
   "metadata": {},
   "outputs": [
    {
     "data": {
      "text/plain": [
       "directory.id               0\n",
       "Subject                    0\n",
       "RID                        0\n",
       "Image.Data.ID              0\n",
       "Modality                   0\n",
       "Visit                      0\n",
       "Acq.Date                   0\n",
       "DX.bl                      0\n",
       "EXAMDATE                   0\n",
       "AGE                        0\n",
       "PTGENDER                   0\n",
       "PTEDUCAT                   0\n",
       "PTETHCAT                   0\n",
       "PTRACCAT                   0\n",
       "APOE4                      0\n",
       "MMSE                       0\n",
       "imputed_genotype           1\n",
       "APOE Genotype              0\n",
       "Dx Codes for Submission    0\n",
       "dtype: int64"
      ]
     },
     "execution_count": 2,
     "metadata": {},
     "output_type": "execute_result"
    }
   ],
   "source": [
    "data.isnull().sum()    "
   ]
  },
  {
   "cell_type": "code",
   "execution_count": null,
   "metadata": {},
   "outputs": [],
   "source": [
    "#KNN TO FILL UP MISSING VALUES.\n",
    "from fancyimpute import KNN\n",
    "X_fill = KNN(k=4).fit_transform(data)"
   ]
  },
  {
   "cell_type": "code",
   "execution_count": null,
   "metadata": {},
   "outputs": [],
   "source": [
    "X_fill = pd.DataFrame(data=X_fill)\n",
    "X_fill.columns = data.columns\n",
    "X_fill.isnull().any().sum()"
   ]
  },
  {
   "cell_type": "code",
   "execution_count": 7,
   "metadata": {},
   "outputs": [],
   "source": [
    "data=data.dropna() # as there was only one missing value"
   ]
  },
  {
   "cell_type": "code",
   "execution_count": 4,
   "metadata": {},
   "outputs": [
    {
     "name": "stdout",
     "output_type": "stream",
     "text": [
      "<class 'pandas.core.frame.DataFrame'>\n",
      "Int64Index: 627 entries, 0 to 627\n",
      "Data columns (total 19 columns):\n",
      "directory.id               627 non-null object\n",
      "Subject                    627 non-null object\n",
      "RID                        627 non-null int64\n",
      "Image.Data.ID              627 non-null int64\n",
      "Modality                   627 non-null object\n",
      "Visit                      627 non-null int64\n",
      "Acq.Date                   627 non-null object\n",
      "DX.bl                      627 non-null object\n",
      "EXAMDATE                   627 non-null object\n",
      "AGE                        627 non-null float64\n",
      "PTGENDER                   627 non-null object\n",
      "PTEDUCAT                   627 non-null int64\n",
      "PTETHCAT                   627 non-null object\n",
      "PTRACCAT                   627 non-null object\n",
      "APOE4                      627 non-null int64\n",
      "MMSE                       627 non-null int64\n",
      "imputed_genotype           627 non-null object\n",
      "APOE Genotype              627 non-null object\n",
      "Dx Codes for Submission    627 non-null object\n",
      "dtypes: float64(1), int64(6), object(12)\n",
      "memory usage: 98.0+ KB\n"
     ]
    }
   ],
   "source": [
    "data.info()   # now no more missing values present"
   ]
  },
  {
   "cell_type": "code",
   "execution_count": 203,
   "metadata": {},
   "outputs": [
    {
     "data": {
      "text/html": [
       "<div>\n",
       "<style scoped>\n",
       "    .dataframe tbody tr th:only-of-type {\n",
       "        vertical-align: middle;\n",
       "    }\n",
       "\n",
       "    .dataframe tbody tr th {\n",
       "        vertical-align: top;\n",
       "    }\n",
       "\n",
       "    .dataframe thead th {\n",
       "        text-align: right;\n",
       "    }\n",
       "</style>\n",
       "<table border=\"1\" class=\"dataframe\">\n",
       "  <thead>\n",
       "    <tr style=\"text-align: right;\">\n",
       "      <th></th>\n",
       "      <th>directory.id</th>\n",
       "      <th>Subject</th>\n",
       "      <th>RID</th>\n",
       "      <th>Image.Data.ID</th>\n",
       "      <th>Modality</th>\n",
       "      <th>Visit</th>\n",
       "      <th>Acq.Date</th>\n",
       "      <th>DX.bl</th>\n",
       "      <th>EXAMDATE</th>\n",
       "      <th>AGE</th>\n",
       "      <th>PTGENDER</th>\n",
       "      <th>PTEDUCAT</th>\n",
       "      <th>PTETHCAT</th>\n",
       "      <th>PTRACCAT</th>\n",
       "      <th>APOE4</th>\n",
       "      <th>MMSE</th>\n",
       "      <th>imputed_genotype</th>\n",
       "      <th>APOE Genotype</th>\n",
       "      <th>Dx Codes for Submission</th>\n",
       "    </tr>\n",
       "  </thead>\n",
       "  <tbody>\n",
       "    <tr>\n",
       "      <td>0</td>\n",
       "      <td>4702245ea294ce5d4e9b8a87027dfdf4</td>\n",
       "      <td>011_S_0003</td>\n",
       "      <td>3</td>\n",
       "      <td>32237</td>\n",
       "      <td>MRI</td>\n",
       "      <td>1</td>\n",
       "      <td>9/1/2005</td>\n",
       "      <td>AD</td>\n",
       "      <td>9/12/2005</td>\n",
       "      <td>81.3</td>\n",
       "      <td>Male</td>\n",
       "      <td>18</td>\n",
       "      <td>Not Hisp/Latino</td>\n",
       "      <td>White</td>\n",
       "      <td>1</td>\n",
       "      <td>20</td>\n",
       "      <td>True</td>\n",
       "      <td>3,4</td>\n",
       "      <td>AD</td>\n",
       "    </tr>\n",
       "    <tr>\n",
       "      <td>1</td>\n",
       "      <td>2e89e352af743597b2368c412e0f6de2</td>\n",
       "      <td>022_S_0004</td>\n",
       "      <td>4</td>\n",
       "      <td>64631</td>\n",
       "      <td>MRI</td>\n",
       "      <td>1</td>\n",
       "      <td>9/22/2005</td>\n",
       "      <td>LMCI</td>\n",
       "      <td>11/8/2005</td>\n",
       "      <td>67.5</td>\n",
       "      <td>Male</td>\n",
       "      <td>10</td>\n",
       "      <td>Hisp/Latino</td>\n",
       "      <td>White</td>\n",
       "      <td>0</td>\n",
       "      <td>27</td>\n",
       "      <td>False</td>\n",
       "      <td>3,3</td>\n",
       "      <td>MCI</td>\n",
       "    </tr>\n",
       "    <tr>\n",
       "      <td>2</td>\n",
       "      <td>90419199306997753de8042f1fd55e38</td>\n",
       "      <td>011_S_0005</td>\n",
       "      <td>5</td>\n",
       "      <td>32246</td>\n",
       "      <td>MRI</td>\n",
       "      <td>1</td>\n",
       "      <td>9/2/2005</td>\n",
       "      <td>CN</td>\n",
       "      <td>9/7/2005</td>\n",
       "      <td>73.7</td>\n",
       "      <td>Male</td>\n",
       "      <td>16</td>\n",
       "      <td>Not Hisp/Latino</td>\n",
       "      <td>White</td>\n",
       "      <td>0</td>\n",
       "      <td>29</td>\n",
       "      <td>True</td>\n",
       "      <td>3,3</td>\n",
       "      <td>CN</td>\n",
       "    </tr>\n",
       "  </tbody>\n",
       "</table>\n",
       "</div>"
      ],
      "text/plain": [
       "                       directory.id     Subject  RID  Image.Data.ID Modality  \\\n",
       "0  4702245ea294ce5d4e9b8a87027dfdf4  011_S_0003    3          32237      MRI   \n",
       "1  2e89e352af743597b2368c412e0f6de2  022_S_0004    4          64631      MRI   \n",
       "2  90419199306997753de8042f1fd55e38  011_S_0005    5          32246      MRI   \n",
       "\n",
       "   Visit   Acq.Date DX.bl   EXAMDATE   AGE PTGENDER  PTEDUCAT  \\\n",
       "0      1   9/1/2005    AD  9/12/2005  81.3     Male        18   \n",
       "1      1  9/22/2005  LMCI  11/8/2005  67.5     Male        10   \n",
       "2      1   9/2/2005    CN   9/7/2005  73.7     Male        16   \n",
       "\n",
       "          PTETHCAT PTRACCAT  APOE4  MMSE imputed_genotype APOE Genotype  \\\n",
       "0  Not Hisp/Latino    White      1    20             True           3,4   \n",
       "1      Hisp/Latino    White      0    27            False           3,3   \n",
       "2  Not Hisp/Latino    White      0    29             True           3,3   \n",
       "\n",
       "  Dx Codes for Submission  \n",
       "0                      AD  \n",
       "1                     MCI  \n",
       "2                      CN  "
      ]
     },
     "execution_count": 203,
     "metadata": {},
     "output_type": "execute_result"
    }
   ],
   "source": [
    "data.head(3)"
   ]
  },
  {
   "cell_type": "code",
   "execution_count": null,
   "metadata": {},
   "outputs": [],
   "source": []
  },
  {
   "cell_type": "code",
   "execution_count": 8,
   "metadata": {},
   "outputs": [
    {
     "name": "stdout",
     "output_type": "stream",
     "text": [
      "Removing columns: ['directory.id', 'Subject', 'RID', 'Image.Data.ID', 'Modality', 'Visit', 'Acq.Date', 'DX.bl', 'EXAMDATE', 'Dx Codes for Submission']\n"
     ]
    },
    {
     "data": {
      "text/html": [
       "<div>\n",
       "<style scoped>\n",
       "    .dataframe tbody tr th:only-of-type {\n",
       "        vertical-align: middle;\n",
       "    }\n",
       "\n",
       "    .dataframe tbody tr th {\n",
       "        vertical-align: top;\n",
       "    }\n",
       "\n",
       "    .dataframe thead th {\n",
       "        text-align: right;\n",
       "    }\n",
       "</style>\n",
       "<table border=\"1\" class=\"dataframe\">\n",
       "  <thead>\n",
       "    <tr style=\"text-align: right;\">\n",
       "      <th></th>\n",
       "      <th>AGE</th>\n",
       "      <th>PTGENDER</th>\n",
       "      <th>PTEDUCAT</th>\n",
       "      <th>PTETHCAT</th>\n",
       "      <th>PTRACCAT</th>\n",
       "      <th>APOE4</th>\n",
       "      <th>MMSE</th>\n",
       "      <th>imputed_genotype</th>\n",
       "      <th>APOE Genotype</th>\n",
       "    </tr>\n",
       "  </thead>\n",
       "  <tbody>\n",
       "    <tr>\n",
       "      <td>0</td>\n",
       "      <td>81.3</td>\n",
       "      <td>Male</td>\n",
       "      <td>18</td>\n",
       "      <td>Not Hisp/Latino</td>\n",
       "      <td>White</td>\n",
       "      <td>1</td>\n",
       "      <td>20</td>\n",
       "      <td>True</td>\n",
       "      <td>3,4</td>\n",
       "    </tr>\n",
       "    <tr>\n",
       "      <td>1</td>\n",
       "      <td>67.5</td>\n",
       "      <td>Male</td>\n",
       "      <td>10</td>\n",
       "      <td>Hisp/Latino</td>\n",
       "      <td>White</td>\n",
       "      <td>0</td>\n",
       "      <td>27</td>\n",
       "      <td>False</td>\n",
       "      <td>3,3</td>\n",
       "    </tr>\n",
       "    <tr>\n",
       "      <td>2</td>\n",
       "      <td>73.7</td>\n",
       "      <td>Male</td>\n",
       "      <td>16</td>\n",
       "      <td>Not Hisp/Latino</td>\n",
       "      <td>White</td>\n",
       "      <td>0</td>\n",
       "      <td>29</td>\n",
       "      <td>True</td>\n",
       "      <td>3,3</td>\n",
       "    </tr>\n",
       "    <tr>\n",
       "      <td>3</td>\n",
       "      <td>80.4</td>\n",
       "      <td>Female</td>\n",
       "      <td>13</td>\n",
       "      <td>Not Hisp/Latino</td>\n",
       "      <td>White</td>\n",
       "      <td>0</td>\n",
       "      <td>25</td>\n",
       "      <td>True</td>\n",
       "      <td>3,3</td>\n",
       "    </tr>\n",
       "    <tr>\n",
       "      <td>4</td>\n",
       "      <td>73.9</td>\n",
       "      <td>Female</td>\n",
       "      <td>12</td>\n",
       "      <td>Not Hisp/Latino</td>\n",
       "      <td>White</td>\n",
       "      <td>1</td>\n",
       "      <td>24</td>\n",
       "      <td>True</td>\n",
       "      <td>3,4</td>\n",
       "    </tr>\n",
       "  </tbody>\n",
       "</table>\n",
       "</div>"
      ],
      "text/plain": [
       "    AGE PTGENDER  PTEDUCAT         PTETHCAT PTRACCAT  APOE4  MMSE  \\\n",
       "0  81.3     Male        18  Not Hisp/Latino    White      1    20   \n",
       "1  67.5     Male        10      Hisp/Latino    White      0    27   \n",
       "2  73.7     Male        16  Not Hisp/Latino    White      0    29   \n",
       "3  80.4   Female        13  Not Hisp/Latino    White      0    25   \n",
       "4  73.9   Female        12  Not Hisp/Latino    White      1    24   \n",
       "\n",
       "  imputed_genotype APOE Genotype  \n",
       "0             True           3,4  \n",
       "1            False           3,3  \n",
       "2             True           3,3  \n",
       "3             True           3,3  \n",
       "4             True           3,4  "
      ]
     },
     "execution_count": 8,
     "metadata": {},
     "output_type": "execute_result"
    }
   ],
   "source": [
    "X = data\n",
    "Y = data['DX.bl']\n",
    "\n",
    "\n",
    "# unnecessary  (features) are removed'\n",
    "rem_columns = list(X.columns)[0:9]\n",
    "rem_columns.append('Dx Codes for Submission')\n",
    "print('Removing columns:', rem_columns)\n",
    "\n",
    "X = X.drop(rem_columns, axis=1)  # to remove the unnecessary columns from X\n",
    "\n",
    "features = list(X.columns)\n",
    "X.head(5)"
   ]
  },
  {
   "cell_type": "code",
   "execution_count": 9,
   "metadata": {},
   "outputs": [
    {
     "data": {
      "text/plain": [
       "Index(['AGE', 'PTEDUCAT', 'APOE4', 'MMSE'], dtype='object')"
      ]
     },
     "execution_count": 9,
     "metadata": {},
     "output_type": "execute_result"
    }
   ],
   "source": [
    "num=X.select_dtypes('number').columns    #numerical columns\n",
    "num"
   ]
  },
  {
   "cell_type": "code",
   "execution_count": 10,
   "metadata": {},
   "outputs": [],
   "source": [
    "M=Y.tolist()"
   ]
  },
  {
   "cell_type": "markdown",
   "metadata": {},
   "source": [
    " ### To change to binary classification"
   ]
  },
  {
   "cell_type": "code",
   "execution_count": 11,
   "metadata": {},
   "outputs": [],
   "source": [
    "j=0                \n",
    "for i in range(0,len(M)):\n",
    "    if M[i] == 'LMCI':\n",
    "        M[i]='Not-AD'\n",
    "    if M[i] == 'CN':\n",
    "        M[i]='Not-AD'\n",
    "    "
   ]
  },
  {
   "cell_type": "code",
   "execution_count": 12,
   "metadata": {},
   "outputs": [
    {
     "data": {
      "text/plain": [
       "0          AD\n",
       "1      Not-AD\n",
       "2      Not-AD\n",
       "3      Not-AD\n",
       "4          AD\n",
       "        ...  \n",
       "622    Not-AD\n",
       "623    Not-AD\n",
       "624    Not-AD\n",
       "625    Not-AD\n",
       "626    Not-AD\n",
       "Length: 627, dtype: object"
      ]
     },
     "execution_count": 12,
     "metadata": {},
     "output_type": "execute_result"
    }
   ],
   "source": [
    "Z=pd.Series(M)\n",
    "Z"
   ]
  },
  {
   "cell_type": "code",
   "execution_count": 13,
   "metadata": {},
   "outputs": [
    {
     "name": "stdout",
     "output_type": "stream",
     "text": [
      "Index(['AD', 'Not-AD'], dtype='object')\n"
     ]
    }
   ],
   "source": [
    "factor=pd.factorize(Z)\n",
    "Z=factor[0]\n",
    "definitions=factor[1]\n",
    "print(definitions)"
   ]
  },
  {
   "cell_type": "code",
   "execution_count": 14,
   "metadata": {},
   "outputs": [],
   "source": [
    "Z=pd.Series(Z)"
   ]
  },
  {
   "cell_type": "code",
   "execution_count": 15,
   "metadata": {},
   "outputs": [
    {
     "data": {
      "text/plain": [
       "0      0\n",
       "1      1\n",
       "2      1\n",
       "3      1\n",
       "4      0\n",
       "      ..\n",
       "622    1\n",
       "623    1\n",
       "624    1\n",
       "625    1\n",
       "626    1\n",
       "Length: 627, dtype: int64"
      ]
     },
     "execution_count": 15,
     "metadata": {},
     "output_type": "execute_result"
    }
   ],
   "source": [
    "Z   # 0 is for the patient who alzeihmers and 1 is for patient without alzeihmer's "
   ]
  },
  {
   "cell_type": "code",
   "execution_count": 3,
   "metadata": {},
   "outputs": [
    {
     "name": "stdout",
     "output_type": "stream",
     "text": [
      "Populating the interactive namespace from numpy and matplotlib\n"
     ]
    },
    {
     "name": "stderr",
     "output_type": "stream",
     "text": [
      "C:\\Users\\admin\\Anaconda3\\lib\\site-packages\\IPython\\core\\magics\\pylab.py:160: UserWarning: pylab import has clobbered these variables: ['plt']\n",
      "`%matplotlib` prevents importing * from pylab and numpy\n",
      "  \"\\n`%matplotlib` prevents importing * from pylab and numpy\"\n"
     ]
    }
   ],
   "source": [
    "%pylab inline\n",
    "%config InlineBackend.figure_formats = ['retina']\n",
    "\n",
    "import pandas as pd\n",
    "import seaborn as sns\n",
    "sns.set()"
   ]
  },
  {
   "cell_type": "markdown",
   "metadata": {},
   "source": [
    "#### Log transforming skew variables"
   ]
  },
  {
   "cell_type": "code",
   "execution_count": 17,
   "metadata": {},
   "outputs": [
    {
     "data": {
      "text/plain": [
       "[Text(0, 0.5, 'frequency'),\n",
       " Text(0.5, 0, 'value'),\n",
       " Text(0.5, 1.0, 'after np.log1p')]"
      ]
     },
     "execution_count": 17,
     "metadata": {},
     "output_type": "execute_result"
    },
    {
     "data": {
      "image/png": "[encoded data removed]",
      "text/plain": [
       "<Figure size 720x360 with 2 Axes>"
      ]
     },
     "metadata": {
      "image/png": {
       "height": 336,
       "width": 615
      },
      "needs_background": "light"
     },
     "output_type": "display_data"
    }
   ],
   "source": [
    "# Let's look at what happens to one of these features, when we apply np.log1p visually.\n",
    "import matplotlib.pyplot as plt\n",
    "# Choose a field\n",
    "#field = \"SalePrice\"\n",
    "\n",
    "# Create two \"subplots\" and a \"figure\" using matplotlib\n",
    "fig, (ax_before, ax_after) = plt.subplots(1, 2, figsize=(10, 5))\n",
    "\n",
    "# Create a histogram on the \"ax_before\" subplot\n",
    "Z.hist(ax=ax_before)\n",
    "\n",
    "# Apply a log transformation (numpy syntax) to this column\n",
    "Z.apply(np.log1p).hist(ax=ax_after)\n",
    "\n",
    "# Formatting of titles etc. for each subplot\n",
    "ax_before.set(title='before np.log1p', ylabel='frequency', xlabel='value')\n",
    "ax_after.set(title='after np.log1p', ylabel='frequency', xlabel='value')"
   ]
  },
  {
   "cell_type": "markdown",
   "metadata": {},
   "source": [
    "### Understanding numerical and categorical Variables Distribution"
   ]
  },
  {
   "cell_type": "code",
   "execution_count": 18,
   "metadata": {},
   "outputs": [
    {
     "data": {
      "text/plain": [
       "['AGE', 'PTEDUCAT', 'APOE4', 'MMSE']"
      ]
     },
     "execution_count": 18,
     "metadata": {},
     "output_type": "execute_result"
    }
   ],
   "source": [
    "numerical=num.tolist()\n",
    "numerical"
   ]
  },
  {
   "cell_type": "code",
   "execution_count": null,
   "metadata": {},
   "outputs": [],
   "source": []
  },
  {
   "cell_type": "code",
   "execution_count": 19,
   "metadata": {},
   "outputs": [
    {
     "data": {
      "text/plain": [
       "['PTGENDER', 'PTETHCAT', 'PTRACCAT', 'imputed_genotype', 'APOE Genotype']"
      ]
     },
     "execution_count": 19,
     "metadata": {},
     "output_type": "execute_result"
    }
   ],
   "source": [
    "one_hot_encode_cols = X.dtypes[X.dtypes == np.object]  # filtering by string categoricals\n",
    "one_hot_encode_cols = one_hot_encode_cols.index.tolist()\n",
    "one_hot_encode_cols"
   ]
  },
  {
   "cell_type": "code",
   "execution_count": 214,
   "metadata": {},
   "outputs": [
    {
     "name": "stdout",
     "output_type": "stream",
     "text": [
      "Categorical variable distributions:\n",
      "\n",
      "\n",
      "Distribution of PTGENDER\n",
      "Male      363\n",
      "Female    264\n",
      "Name: PTGENDER, dtype: int64\n",
      "\n",
      "Distribution of PTETHCAT\n",
      "Not Hisp/Latino    616\n",
      "Hisp/Latino          8\n",
      "Unknown              3\n",
      "Name: PTETHCAT, dtype: int64\n",
      "\n",
      "Distribution of PTRACCAT\n",
      "White    583\n",
      "Black     31\n",
      "Asian     13\n",
      "Name: PTRACCAT, dtype: int64\n",
      "\n",
      "Distribution of imputed_genotype\n",
      "True     466\n",
      "False    161\n",
      "Name: imputed_genotype, dtype: int64\n",
      "\n",
      "Distribution of APOE Genotype\n",
      "3,3    275\n",
      "3,4    221\n",
      "4,4     71\n",
      "2,3     45\n",
      "2,4     13\n",
      "2,2      2\n",
      "Name: APOE Genotype, dtype: int64\n"
     ]
    }
   ],
   "source": [
    "\n",
    "\n",
    "print('Categorical variable distributions:\\n')\n",
    "\n",
    "for var in one_hot_encode_cols:\n",
    "    print('\\nDistribution of', var)\n",
    "    \n",
    "    print(X[var].value_counts())"
   ]
  },
  {
   "cell_type": "code",
   "execution_count": 163,
   "metadata": {},
   "outputs": [
    {
     "name": "stdout",
     "output_type": "stream",
     "text": [
      "Number Variables Distributions:\n",
      "\n"
     ]
    },
    {
     "data": {
      "image/png": "[encoded data removed]",
      "text/plain": [
       "<Figure size 432x288 with 1 Axes>"
      ]
     },
     "metadata": {
      "needs_background": "light"
     },
     "output_type": "display_data"
    },
    {
     "name": "stdout",
     "output_type": "stream",
     "text": [
      "count    627.000000\n",
      "mean      75.161882\n",
      "std        6.689979\n",
      "min       55.100000\n",
      "25%       71.200000\n",
      "50%       75.400000\n",
      "75%       80.000000\n",
      "max       89.600000\n",
      "Name: AGE, dtype: float64\n"
     ]
    },
    {
     "data": {
      "image/png": "[encoded data removed]",
      "text/plain": [
       "<Figure size 432x288 with 1 Axes>"
      ]
     },
     "metadata": {
      "needs_background": "light"
     },
     "output_type": "display_data"
    },
    {
     "name": "stdout",
     "output_type": "stream",
     "text": [
      "count    627.000000\n",
      "mean      15.612440\n",
      "std        2.978845\n",
      "min        6.000000\n",
      "25%       13.000000\n",
      "50%       16.000000\n",
      "75%       18.000000\n",
      "max       20.000000\n",
      "Name: PTEDUCAT, dtype: float64\n"
     ]
    },
    {
     "data": {
      "image/png": "[encoded data removed]",
      "text/plain": [
       "<Figure size 432x288 with 1 Axes>"
      ]
     },
     "metadata": {
      "needs_background": "light"
     },
     "output_type": "display_data"
    },
    {
     "name": "stdout",
     "output_type": "stream",
     "text": [
      "count    627.000000\n",
      "mean       0.599681\n",
      "std        0.683582\n",
      "min        0.000000\n",
      "25%        0.000000\n",
      "50%        0.000000\n",
      "75%        1.000000\n",
      "max        2.000000\n",
      "Name: APOE4, dtype: float64\n"
     ]
    },
    {
     "data": {
      "image/png": "[encoded data removed]",
      "text/plain": [
       "<Figure size 432x288 with 1 Axes>"
      ]
     },
     "metadata": {
      "needs_background": "light"
     },
     "output_type": "display_data"
    },
    {
     "name": "stdout",
     "output_type": "stream",
     "text": [
      "count    627.000000\n",
      "mean      26.921850\n",
      "std        2.563934\n",
      "min       20.000000\n",
      "25%       25.000000\n",
      "50%       27.000000\n",
      "75%       29.000000\n",
      "max       30.000000\n",
      "Name: MMSE, dtype: float64\n"
     ]
    }
   ],
   "source": [
    "print('Number Variables Distributions:\\n')\n",
    "import matplotlib.pyplot as plt\n",
    "for var in numerical:\n",
    "    plt.hist(X[var], bins=10)\n",
    "    plt.title(var + ' Distribution')\n",
    "    plt.show()\n",
    "    \n",
    "    # descriptive stats\n",
    "    print(X[var].describe())"
   ]
  },
  {
   "cell_type": "markdown",
   "metadata": {},
   "source": [
    "### Target variable distributions\n",
    "### DX.bl is the target variable."
   ]
  },
  {
   "cell_type": "code",
   "execution_count": 16,
   "metadata": {},
   "outputs": [
    {
     "data": {
      "text/plain": [
       "<matplotlib.axes._subplots.AxesSubplot at 0x192ce93d048>"
      ]
     },
     "execution_count": 16,
     "metadata": {},
     "output_type": "execute_result"
    },
    {
     "data": {
      "image/png": "[encoded data removed]",
      "text/plain": [
       "<Figure size 432x288 with 1 Axes>"
      ]
     },
     "metadata": {
      "needs_background": "light"
     },
     "output_type": "display_data"
    }
   ],
   "source": [
    " \n",
    "Z.value_counts().plot(kind='bar')  \n"
   ]
  },
  {
   "cell_type": "markdown",
   "metadata": {},
   "source": [
    "### conversion to 1-hot encoding for every categorical variable"
   ]
  },
  {
   "cell_type": "code",
   "execution_count": 20,
   "metadata": {},
   "outputs": [],
   "source": [
    "\n",
    "for var in one_hot_encode_cols:\n",
    "    \n",
    "    \n",
    "    #getting 1-hot and replacing original column with the >= 2 categories as columns\n",
    "    one_hot_df = pd.get_dummies(X[var])\n",
    "    X = pd.concat([X, one_hot_df], axis=1)\n",
    "    X = X.drop(var, axis=1)"
   ]
  },
  {
   "cell_type": "code",
   "execution_count": 21,
   "metadata": {},
   "outputs": [
    {
     "data": {
      "text/plain": [
       "Index([            'AGE',        'PTEDUCAT',           'APOE4',\n",
       "                  'MMSE',          'Female',            'Male',\n",
       "           'Hisp/Latino', 'Not Hisp/Latino',         'Unknown',\n",
       "                 'Asian',           'Black',           'White',\n",
       "                   False,              True,             '2,2',\n",
       "                   '2,3',             '2,4',             '3,3',\n",
       "                   '3,4',             '4,4'],\n",
       "      dtype='object')"
      ]
     },
     "execution_count": 21,
     "metadata": {},
     "output_type": "execute_result"
    }
   ],
   "source": [
    "X.columns"
   ]
  },
  {
   "cell_type": "code",
   "execution_count": 55,
   "metadata": {},
   "outputs": [
    {
     "name": "stdout",
     "output_type": "stream",
     "text": [
      "Requirement already satisfied: sklearn in c:\\users\\admin\\anaconda3\\lib\\site-packages (0.0)\n",
      "Requirement already satisfied: scikit-learn in c:\\users\\admin\\anaconda3\\lib\\site-packages (from sklearn) (0.24.2)\n",
      "Requirement already satisfied: joblib>=0.11 in c:\\users\\admin\\anaconda3\\lib\\site-packages (from scikit-learn->sklearn) (0.13.2)\n",
      "Requirement already satisfied: scipy>=0.19.1 in c:\\users\\admin\\anaconda3\\lib\\site-packages (from scikit-learn->sklearn) (1.6.3)\n",
      "Requirement already satisfied: threadpoolctl>=2.0.0 in c:\\users\\admin\\anaconda3\\lib\\site-packages (from scikit-learn->sklearn) (2.1.0)\n",
      "Requirement already satisfied: numpy>=1.13.3 in c:\\users\\admin\\anaconda3\\lib\\site-packages (from scikit-learn->sklearn) (1.19.5)\n"
     ]
    }
   ],
   "source": [
    "!pip install sklearn"
   ]
  },
  {
   "cell_type": "code",
   "execution_count": null,
   "metadata": {},
   "outputs": [],
   "source": [
    "import six\n",
    "import sys\n",
    "try:\n",
    "    from sklearn.utils import safe_indexing\n",
    "except ImportError:\n",
    "    from sklearn.utils import _safe_indexing\n",
    "import sklearn.neighbors._base\n",
    "sys.modules['sklearn.neighbors.base'] = sklearn.neighbors._base\n",
    "sys.modules['sklearn.externals.six'] = six\n",
    "\n",
    "\n"
   ]
  },
  {
   "cell_type": "markdown",
   "metadata": {},
   "source": [
    "### SPLITTING TO TRAIN/TEST\n"
   ]
  },
  {
   "cell_type": "code",
   "execution_count": 22,
   "metadata": {},
   "outputs": [
    {
     "name": "stdout",
     "output_type": "stream",
     "text": [
      "X_train: (501, 20) \ty_train: (501,)\n",
      "X_test: (126, 20) \ty_test: (126,)\n"
     ]
    }
   ],
   "source": [
    "from sklearn.model_selection import train_test_split\n",
    "\n",
    "X_trainE, X_testE, y_trainE, y_testE = train_test_split(X, Z, test_size=.2)\n",
    "\n",
    "print('X_train:', X_trainE.shape, '\\ty_train:', y_trainE.shape)\n",
    "print('X_test:', X_testE.shape, '\\ty_test:', y_testE.shape)\n",
    "num_test = X_testE.shape[0]"
   ]
  },
  {
   "cell_type": "markdown",
   "metadata": {},
   "source": [
    "### DATA BALANCING"
   ]
  },
  {
   "cell_type": "code",
   "execution_count": null,
   "metadata": {},
   "outputs": [],
   "source": [
    "from imblearn.over_sampling import SMOTE\n",
    "over = SMOTE(random_state=0)\n",
    "\n",
    "columns = X_trainE.columns\n",
    "c=y_trainE.columns\n",
    "\n",
    "\n",
    "X_trainEa,y_trainE = over.fit_sample(X_trainE, y_trainE)\n",
    "\n",
    "X_trainEa = pd.DataFrame(data=X_trainE,columns=columns )\n",
    "\n",
    "y_trainEa= pd.DataFrame(data=y_trainE,columns=c)\n",
    "\n",
    "\n",
    "X_smote_train = X_trainEa\n",
    "Y_smote_train = y_trainEa"
   ]
  },
  {
   "cell_type": "markdown",
   "metadata": {},
   "source": [
    "### SCALING"
   ]
  },
  {
   "cell_type": "code",
   "execution_count": 25,
   "metadata": {},
   "outputs": [],
   "source": [
    "from sklearn.preprocessing import StandardScaler\n",
    "\n",
    "scaler  = StandardScaler()\n",
    "X_trainE=scaler.fit_transform(X_trainE)\n",
    "X_testE=scaler.fit_transform(X_testE)"
   ]
  },
  {
   "cell_type": "markdown",
   "metadata": {},
   "source": [
    "### EVALUATION OF MODELS"
   ]
  },
  {
   "cell_type": "code",
   "execution_count": 26,
   "metadata": {},
   "outputs": [
    {
     "name": "stdout",
     "output_type": "stream",
     "text": [
      "Validation Accuracy Logistic Regression after cross validation=  86.82%\n"
     ]
    }
   ],
   "source": [
    "from sklearn.linear_model import LogisticRegression\n",
    "from sklearn.ensemble import RandomForestClassifier\n",
    "from sklearn.neighbors import KNeighborsClassifier\n",
    "from sklearn.neural_network import MLPClassifier\n",
    "\n",
    "from sklearn.model_selection import cross_val_score\n",
    "log_clf = LogisticRegression(solver='lbfgs', penalty='l2', max_iter=1000000, multi_class='multinomial')\n",
    "print('Validation Accuracy Logistic Regression after cross validation= ', format(cross_val_score(log_clf, X_trainE, y_trainE, cv=5).mean(), '.2%'))"
   ]
  },
  {
   "cell_type": "code",
   "execution_count": 27,
   "metadata": {},
   "outputs": [
    {
     "name": "stdout",
     "output_type": "stream",
     "text": [
      "Validation Accuracy of Random Forest after cross validation =  86.23%\n"
     ]
    }
   ],
   "source": [
    "rf_clf = RandomForestClassifier(n_estimators=200)\n",
    "print('Validation Accuracy of Random Forest after cross validation = ', format(cross_val_score(rf_clf, X_trainE, y_trainE, cv=5).mean(), '.2%'))"
   ]
  },
  {
   "cell_type": "code",
   "execution_count": 28,
   "metadata": {},
   "outputs": [
    {
     "data": {
      "text/plain": [
       "RandomForestClassifier(n_estimators=200)"
      ]
     },
     "execution_count": 28,
     "metadata": {},
     "output_type": "execute_result"
    }
   ],
   "source": [
    "#Fitting on random_forest \n",
    "rf_clf.fit(X_trainE, y_trainE)"
   ]
  },
  {
   "cell_type": "code",
   "execution_count": 29,
   "metadata": {},
   "outputs": [],
   "source": [
    "from sklearn.metrics import roc_auc_score, accuracy_score, precision_score, recall_score\n",
    "\n",
    "\n",
    "def res(y_true, y_pred):\n",
    "    \n",
    "    auc = roc_auc_score(y_true, y_pred)\n",
    "    accuracy = accuracy_score(y_true, y_pred)\n",
    "    recall = recall_score(y_true, y_pred )\n",
    "    precision = precision_score(y_true, y_pred)\n",
    "   \n",
    "    print('AUC',auc)\n",
    "    print('ACCURACY',accuracy)\n",
    "    print('RECALL',recall)\n",
    "    print('PRECISION',precision)\n",
    "    \n",
    "    return auc, accuracy, recall, precision"
   ]
  },
  {
   "cell_type": "markdown",
   "metadata": {},
   "source": [
    "### LOGISTIC REGRESSION"
   ]
  },
  {
   "cell_type": "code",
   "execution_count": 30,
   "metadata": {},
   "outputs": [
    {
     "data": {
      "text/plain": [
       "LogisticRegression(max_iter=1000000, multi_class='multinomial')"
      ]
     },
     "execution_count": 30,
     "metadata": {},
     "output_type": "execute_result"
    }
   ],
   "source": [
    "log_clf.fit(X_trainE, y_trainE)\n",
    "\n",
    "#log_clf_preds = log_clf.predict(X_testE)\n",
    "    \n",
    "#log_clf_accuracy = (log_clf_preds == y_testE)\n",
    "#print('Test Accuracy of Logistic regression =', format( np.sum(log_clf_accuracy)/num_test, '.2%'))"
   ]
  },
  {
   "cell_type": "code",
   "execution_count": 31,
   "metadata": {},
   "outputs": [
    {
     "name": "stdout",
     "output_type": "stream",
     "text": [
      "Logistic REgression\n",
      "Training:\n",
      "AUC 0.7909951936669494\n",
      "ACCURACY 0.872255489021956\n",
      "RECALL 0.9338422391857506\n",
      "PRECISION 0.9061728395061729\n",
      "Validation:\n",
      "AUC 0.8102970297029702\n",
      "ACCURACY 0.8888888888888888\n",
      "RECALL 0.9405940594059405\n",
      "PRECISION 0.9223300970873787\n"
     ]
    }
   ],
   "source": [
    "y_train_predictions = log_clf.predict(X_trainE)\n",
    "y_valid_predictions = log_clf.predict(X_testE)\n",
    "\n",
    "print('Logistic REgression')\n",
    "print('Training:')\n",
    "Lf_train_auc, Lf_train_accuracy, Lf_train_recall, Lf_train_precision =res(y_trainE,y_train_predictions)\n",
    "print('Validation:')\n",
    "Lf_valid_auc, Lf_valid_accuracy, Lf_valid_recall, Lf_valid_precision = res(y_testE,y_valid_predictions)"
   ]
  },
  {
   "cell_type": "markdown",
   "metadata": {},
   "source": [
    "### RANDOM FOREST"
   ]
  },
  {
   "cell_type": "code",
   "execution_count": 32,
   "metadata": {},
   "outputs": [
    {
     "name": "stdout",
     "output_type": "stream",
     "text": [
      "random forest\n",
      "Training:\n",
      "AUC 1.0\n",
      "ACCURACY 1.0\n",
      "RECALL 1.0\n",
      "PRECISION 1.0\n",
      "Validation:\n",
      "AUC 0.7902970297029703\n",
      "ACCURACY 0.8809523809523809\n",
      "RECALL 0.9405940594059405\n",
      "PRECISION 0.9134615384615384\n"
     ]
    }
   ],
   "source": [
    "y_train_predictions_r = rf_clf.predict(X_trainE)\n",
    "y_valid_predictions_r = rf_clf.predict(X_testE)\n",
    "print('random forest')\n",
    "print('Training:')\n",
    "rf_train_auc, rf_train_accuracy, rf_train_recall, rf_train_precision =res(y_trainE,y_train_predictions_r)\n",
    "print('Validation:')\n",
    "rf_valid_auc, rf_valid_accuracy, rf_valid_recall, rf_valid_precision = res(y_testE,y_valid_predictions_r)"
   ]
  },
  {
   "cell_type": "markdown",
   "metadata": {},
   "source": [
    "### GRADIENT BOOSTING"
   ]
  },
  {
   "cell_type": "code",
   "execution_count": 33,
   "metadata": {},
   "outputs": [
    {
     "data": {
      "text/plain": [
       "GradientBoostingClassifier(learning_rate=1.0, random_state=42)"
      ]
     },
     "execution_count": 33,
     "metadata": {},
     "output_type": "execute_result"
    }
   ],
   "source": [
    "from sklearn.ensemble import GradientBoostingClassifier\n",
    "gbc =GradientBoostingClassifier(n_estimators=100, learning_rate=1.0,\n",
    "     max_depth=3, random_state=42)\n",
    "gbc.fit(X_trainE, y_trainE)"
   ]
  },
  {
   "cell_type": "code",
   "execution_count": 34,
   "metadata": {},
   "outputs": [
    {
     "name": "stdout",
     "output_type": "stream",
     "text": [
      "Gradient Boosting Classifier\n",
      "Training:\n",
      "AUC 1.0\n",
      "ACCURACY 1.0\n",
      "RECALL 1.0\n",
      "PRECISION 1.0\n",
      "Validation:\n",
      "AUC 0.7653465346534654\n",
      "ACCURACY 0.8650793650793651\n",
      "RECALL 0.9306930693069307\n",
      "PRECISION 0.9038461538461539\n"
     ]
    }
   ],
   "source": [
    "y_train_predictions_a = gbc.predict(X_trainE)\n",
    "y_valid_predictions_a = gbc.predict(X_testE)\n",
    "print('Gradient Boosting Classifier')\n",
    "print('Training:')\n",
    "f_train_auc, f_train_accuracy, f_train_recall, f_train_precision =res(y_trainE,y_train_predictions_a)\n",
    "print('Validation:')\n",
    "f_valid_auc, f_valid_accuracy, f_valid_recall, f_valid_precision = res(y_testE,y_valid_predictions_a)"
   ]
  },
  {
   "cell_type": "markdown",
   "metadata": {},
   "source": [
    "### ANALYZING RESULTS OF ALL MODELS"
   ]
  },
  {
   "cell_type": "code",
   "execution_count": 35,
   "metadata": {},
   "outputs": [],
   "source": [
    "\n",
    "df_results = pd.DataFrame({'classifier':['GB','GB','RF','RF','LR','LR'],\n",
    "                           'data_set':['train','valid']*3,\n",
    "                          'auc':[f_train_auc, f_valid_auc,rf_train_auc, rf_valid_auc,Lf_train_auc, Lf_valid_auc,],\n",
    "                          'accuracy':[f_train_accuracy,  f_valid_accuracy,rf_train_accuracy,  rf_valid_accuracy,Lf_train_accuracy,  Lf_valid_accuracy,],\n",
    "                          'recall':[f_train_recall, f_valid_recall,rf_train_accuracy,  rf_valid_accuracy,Lf_train_accuracy,  Lf_valid_accuracy,],\n",
    "                          'precision':[f_train_precision, f_valid_precision,rf_train_accuracy,  rf_valid_accuracy,Lf_train_accuracy,  Lf_valid_accuracy,]\n",
    "              })"
   ]
  },
  {
   "cell_type": "code",
   "execution_count": 36,
   "metadata": {},
   "outputs": [
    {
     "data": {
      "text/html": [
       "<div>\n",
       "<style scoped>\n",
       "    .dataframe tbody tr th:only-of-type {\n",
       "        vertical-align: middle;\n",
       "    }\n",
       "\n",
       "    .dataframe tbody tr th {\n",
       "        vertical-align: top;\n",
       "    }\n",
       "\n",
       "    .dataframe thead th {\n",
       "        text-align: right;\n",
       "    }\n",
       "</style>\n",
       "<table border=\"1\" class=\"dataframe\">\n",
       "  <thead>\n",
       "    <tr style=\"text-align: right;\">\n",
       "      <th></th>\n",
       "      <th>classifier</th>\n",
       "      <th>data_set</th>\n",
       "      <th>auc</th>\n",
       "      <th>accuracy</th>\n",
       "      <th>recall</th>\n",
       "      <th>precision</th>\n",
       "    </tr>\n",
       "  </thead>\n",
       "  <tbody>\n",
       "    <tr>\n",
       "      <td>0</td>\n",
       "      <td>GB</td>\n",
       "      <td>train</td>\n",
       "      <td>1.000000</td>\n",
       "      <td>1.000000</td>\n",
       "      <td>1.000000</td>\n",
       "      <td>1.000000</td>\n",
       "    </tr>\n",
       "    <tr>\n",
       "      <td>1</td>\n",
       "      <td>GB</td>\n",
       "      <td>valid</td>\n",
       "      <td>0.765347</td>\n",
       "      <td>0.865079</td>\n",
       "      <td>0.930693</td>\n",
       "      <td>0.903846</td>\n",
       "    </tr>\n",
       "    <tr>\n",
       "      <td>2</td>\n",
       "      <td>RF</td>\n",
       "      <td>train</td>\n",
       "      <td>1.000000</td>\n",
       "      <td>1.000000</td>\n",
       "      <td>1.000000</td>\n",
       "      <td>1.000000</td>\n",
       "    </tr>\n",
       "    <tr>\n",
       "      <td>3</td>\n",
       "      <td>RF</td>\n",
       "      <td>valid</td>\n",
       "      <td>0.790297</td>\n",
       "      <td>0.880952</td>\n",
       "      <td>0.880952</td>\n",
       "      <td>0.880952</td>\n",
       "    </tr>\n",
       "    <tr>\n",
       "      <td>4</td>\n",
       "      <td>LR</td>\n",
       "      <td>train</td>\n",
       "      <td>0.790995</td>\n",
       "      <td>0.872255</td>\n",
       "      <td>0.872255</td>\n",
       "      <td>0.872255</td>\n",
       "    </tr>\n",
       "    <tr>\n",
       "      <td>5</td>\n",
       "      <td>LR</td>\n",
       "      <td>valid</td>\n",
       "      <td>0.810297</td>\n",
       "      <td>0.888889</td>\n",
       "      <td>0.888889</td>\n",
       "      <td>0.888889</td>\n",
       "    </tr>\n",
       "  </tbody>\n",
       "</table>\n",
       "</div>"
      ],
      "text/plain": [
       "  classifier data_set       auc  accuracy    recall  precision\n",
       "0         GB    train  1.000000  1.000000  1.000000   1.000000\n",
       "1         GB    valid  0.765347  0.865079  0.930693   0.903846\n",
       "2         RF    train  1.000000  1.000000  1.000000   1.000000\n",
       "3         RF    valid  0.790297  0.880952  0.880952   0.880952\n",
       "4         LR    train  0.790995  0.872255  0.872255   0.872255\n",
       "5         LR    valid  0.810297  0.888889  0.888889   0.888889"
      ]
     },
     "execution_count": 36,
     "metadata": {},
     "output_type": "execute_result"
    }
   ],
   "source": [
    "df_results"
   ]
  },
  {
   "cell_type": "code",
   "execution_count": 37,
   "metadata": {},
   "outputs": [
    {
     "data": {
      "image/png": "[encoded data removed]",
      "text/plain": [
       "<Figure size 432x288 with 1 Axes>"
      ]
     },
     "metadata": {
      "image/png": {
       "height": 273,
       "width": 482
      }
     },
     "output_type": "display_data"
    }
   ],
   "source": [
    "import seaborn as sns\n",
    "import matplotlib.pyplot as plt\n",
    "sns.set(style=\"darkgrid\")\n",
    "ax = sns.barplot(x=\"classifier\", y=\"auc\", hue=\"data_set\", data=df_results)\n",
    "ax.set_xlabel('Classifier',fontsize = 15)\n",
    "ax.set_ylabel('AUC', fontsize = 15)\n",
    "ax.tick_params(labelsize=15)\n",
    "\n",
    "# Put the legend out of the figure\n",
    "plt.legend(bbox_to_anchor=(1, 1), loc=2, borderaxespad=0., fontsize = 15)\n",
    "plt.show()"
   ]
  },
  {
   "cell_type": "markdown",
   "metadata": {},
   "source": [
    "\n",
    "### ROC CURVE FOR LOGISTIC REGRESSION"
   ]
  },
  {
   "cell_type": "code",
   "execution_count": 38,
   "metadata": {},
   "outputs": [],
   "source": [
    "\n",
    "from sklearn.metrics import roc_curve\n",
    "pred_prob1 = log_clf.predict_proba(X_testE)\n",
    "fpr1, tpr1, thresh1 = roc_curve(y_testE, pred_prob1[:,1], pos_label=1)\n",
    "# roc curve for tpr = fpr \n",
    "random_probs = [0 for i in range(len(y_testE))]\n",
    "p_fpr, p_tpr, _ = roc_curve(y_testE, random_probs, pos_label=1)"
   ]
  },
  {
   "cell_type": "code",
   "execution_count": 39,
   "metadata": {},
   "outputs": [
    {
     "data": {
      "image/png": "[encoded data removed]",
      "text/plain": [
       "<Figure size 576x396 with 1 Axes>"
      ]
     },
     "metadata": {
      "image/png": {
       "height": 358,
       "width": 495
      }
     },
     "output_type": "display_data"
    }
   ],
   "source": [
    "import matplotlib.pyplot as plt\n",
    "plt.style.use('seaborn')\n",
    "\n",
    "# plot roc curves\n",
    "plt.plot(fpr1, tpr1, linestyle='--',color='orange',label='ROC curve (area = %0.2f)' % Lf_valid_auc)\n",
    "\n",
    "plt.plot(p_fpr, p_tpr, linestyle='--', color='blue')\n",
    "# title\n",
    "plt.title('ROC curve -Logistic Regression')\n",
    "# x label\n",
    "plt.xlabel('False Positive Rate')\n",
    "# y label\n",
    "plt.ylabel('True Positive rate')\n",
    "\n",
    "plt.legend(loc='best')\n",
    "plt.savefig('ROC',dpi=300)\n",
    "plt.show();"
   ]
  },
  {
   "cell_type": "markdown",
   "metadata": {},
   "source": [
    "### CLASSIFICATION REPORT OF LOGISTIC REGRESSION"
   ]
  },
  {
   "cell_type": "code",
   "execution_count": 42,
   "metadata": {},
   "outputs": [
    {
     "name": "stdout",
     "output_type": "stream",
     "text": [
      "              precision    recall  f1-score   support\n",
      "\n",
      "           0       0.65      0.73      0.69        96\n",
      "           1       0.93      0.91      0.92       405\n",
      "\n",
      "    accuracy                           0.87       501\n",
      "   macro avg       0.79      0.82      0.80       501\n",
      "weighted avg       0.88      0.87      0.88       501\n",
      "\n"
     ]
    }
   ],
   "source": [
    "from sklearn.model_selection import train_test_split\n",
    "from sklearn.metrics import accuracy_score, roc_auc_score, confusion_matrix, classification_report\n",
    "# Computing precision, recall and F1 score for validation data\n",
    "print(classification_report(y_train_predictions,y_trainE))"
   ]
  },
  {
   "cell_type": "markdown",
   "metadata": {},
   "source": [
    "### FEATURE IMPORTANCES"
   ]
  },
  {
   "cell_type": "markdown",
   "metadata": {},
   "source": [
    "\n",
    "For RANDOM FOREST, the variables with highest positive coefficients are predictive of Alzeihmers and the variables with \n",
    "highest negative coefficients are predictive of not having alzeihmers. We can plot the top 10 for each direction below"
   ]
  },
  {
   "cell_type": "code",
   "execution_count": 229,
   "metadata": {},
   "outputs": [],
   "source": [
    "\n",
    "X_training_a=pd.DataFrame(X_trainE,columns=['AGE',        'PTEDUCAT',           'APOE4',\n",
    "                  'MMSE',          'Female',            'Male',\n",
    "           'Hisp/Latino', 'Not Hisp/Latino',         'Unknown',\n",
    "                 'Asian',           'Black',           'White',\n",
    "                   False,              True,             '2,2',\n",
    "                   '2,3',             '2,4',             '3,3',\n",
    "                   '3,4',             '4,4']\n",
    "                                            )"
   ]
  },
  {
   "cell_type": "code",
   "execution_count": 239,
   "metadata": {},
   "outputs": [],
   "source": [
    "features = pd.DataFrame()\n",
    "features['feature'] = X_training_a.columns\n",
    "features['importance'] = rf_clf.feature_importances_\n",
    "features.sort_values(by=['importance'], ascending=True, inplace=True)\n",
    "features.set_index('feature', inplace=True)"
   ]
  },
  {
   "cell_type": "code",
   "execution_count": 241,
   "metadata": {},
   "outputs": [
    {
     "name": "stdout",
     "output_type": "stream",
     "text": [
      "          Importance\n",
      "MMSE        0.526140\n",
      "AGE         0.208873\n",
      "PTEDUCAT    0.116365\n",
      "APOE4       0.023638\n",
      "Female      0.014207\n",
      "Male        0.013847\n",
      "False       0.012440\n",
      "4,4         0.012131\n",
      "3,3         0.011884\n",
      "3,4         0.011612\n"
     ]
    }
   ],
   "source": [
    "feature_importances = pd.DataFrame(rf_clf.feature_importances_, index=X_training_a.columns, \n",
    "                                   columns=['Importance']).sort_values('Importance', ascending=False)\n",
    "print(feature_importances[:10])"
   ]
  },
  {
   "cell_type": "code",
   "execution_count": 249,
   "metadata": {},
   "outputs": [
    {
     "data": {
      "image/png": "[encoded data removed]",
      "text/plain": [
       "<Figure size 640x1200 with 1 Axes>"
      ]
     },
     "metadata": {},
     "output_type": "display_data"
    }
   ],
   "source": [
    "num = 10\n",
    "ylocs = np.arange(num)\n",
    "# get the feature importance for top num and sort in reverse order\n",
    "values_to_plot = feature_importances.iloc[:num].values.ravel()[::-1]\n",
    "feature_labels = list(feature_importances.iloc[:num].index)[::-1]\n",
    "\n",
    "plt.figure(num=None, figsize=(8, 15), dpi=80, facecolor='w', edgecolor='k');\n",
    "plt.barh(ylocs, values_to_plot, align = 'center')\n",
    "plt.ylabel('Features')\n",
    "plt.xlabel('Importance Score')\n",
    "plt.title('Positive Feature Importance Score -random forest')\n",
    "plt.yticks(ylocs, feature_labels)\n",
    "plt.show()"
   ]
  },
  {
   "cell_type": "code",
   "execution_count": 250,
   "metadata": {},
   "outputs": [
    {
     "data": {
      "image/png": "[encoded data removed]",
      "text/plain": [
       "<Figure size 640x1200 with 1 Axes>"
      ]
     },
     "metadata": {},
     "output_type": "display_data"
    }
   ],
   "source": [
    "values_to_plot = feature_importances.iloc[-num:].values.ravel()\n",
    "feature_labels = list(feature_importances.iloc[-num:].index)\n",
    "\n",
    "plt.figure(num=None, figsize=(8, 15), dpi=80, facecolor='w', edgecolor='k');\n",
    "plt.barh(ylocs, values_to_plot, align = 'center')\n",
    "plt.ylabel('Features')\n",
    "plt.xlabel('Importance Score')\n",
    "plt.title('Negative Feature Importance Score - random forest')\n",
    "plt.yticks(ylocs, feature_labels)\n",
    "plt.show()"
   ]
  },
  {
   "cell_type": "markdown",
   "metadata": {},
   "source": [
    "### HYPERPARAMETER OPTIMIZATION -Random Forest Classifier - with GridSearchCV"
   ]
  },
  {
   "cell_type": "code",
   "execution_count": 42,
   "metadata": {},
   "outputs": [
    {
     "name": "stdout",
     "output_type": "stream",
     "text": [
      "Fitting 3 folds for each of 240 candidates, totalling 720 fits\n",
      "Best estimator:  RandomForestClassifier(max_depth=6)\n"
     ]
    }
   ],
   "source": [
    "from sklearn.ensemble import RandomForestClassifier\n",
    "from sklearn.model_selection import GridSearchCV\n",
    "\n",
    "param_grid = {\n",
    "    'bootstrap': [True],\n",
    "    'max_depth': [2, 6, 8, 10, 30, 50, 70, 100],\n",
    "    'min_samples_leaf': [1, 2, 4, 6, 8],\n",
    "    'n_estimators': [100, 200, 300, 500, 1000, 2000]\n",
    "}\n",
    "rfc = RandomForestClassifier(random_state=42)\n",
    "rfc_mod = GridSearchCV(estimator = rf_clf, param_grid = param_grid, \n",
    "                        cv = 3, n_jobs = -1, verbose = 2)\n",
    "\n",
    "rfc_mod.fit(X_trainE, np.ravel( y_trainE))\n",
    "#print(\"Best Parameters: \",model.best_params_)\n",
    "print(\"Best estimator: \",rfc_mod.best_estimator_)\n",
    "#print(\"Highest Accuracy obtained: \",model.best_score_)\n",
    "#X_trainE, y_trainE"
   ]
  },
  {
   "cell_type": "code",
   "execution_count": 45,
   "metadata": {},
   "outputs": [
    {
     "name": "stdout",
     "output_type": "stream",
     "text": [
      "Accuracy is 0.857\n",
      "Recall is 0.949\n",
      "Precision is 0.879\n",
      "Roc_auc_score is 0.734\n",
      "Confusion Matrix :\n",
      "[[14 13]\n",
      " [ 5 94]]\n"
     ]
    }
   ],
   "source": [
    "from sklearn.metrics import accuracy_score, classification_report, precision_score, recall_score, confusion_matrix\n",
    "y_pr = rfc_mod.best_estimator_.predict(X_testE)\n",
    "y_pred = [round(value) for value in y_pr]\n",
    "conf_matrix = confusion_matrix(np.ravel(y_testE), y_pred)\n",
    "print(\"Accuracy is %2.3f\" % accuracy_score(np.ravel(y_testE), y_pred))\n",
    "print(\"Recall is %2.3f\" % recall_score(np.ravel(y_testE), y_pred))\n",
    "print(\"Precision is %2.3f\" % precision_score(np.ravel(y_testE), y_pred))\n",
    "print(\"Roc_auc_score is %2.3f\" % roc_auc_score(np.ravel(y_testE), y_pred))\n",
    "print(\"Confusion Matrix :\")\n",
    "print(conf_matrix)"
   ]
  }
 ],
 "metadata": {
  "kernelspec": {
   "display_name": "Python 3",
   "language": "python",
   "name": "python3"
  },
  "language_info": {
   "codemirror_mode": {
    "name": "ipython",
    "version": 3
   },
   "file_extension": ".py",
   "mimetype": "text/x-python",
   "name": "python",
   "nbconvert_exporter": "python",
   "pygments_lexer": "ipython3",
   "version": "3.7.4"
  }
 },
 "nbformat": 4,
 "nbformat_minor": 2
}
